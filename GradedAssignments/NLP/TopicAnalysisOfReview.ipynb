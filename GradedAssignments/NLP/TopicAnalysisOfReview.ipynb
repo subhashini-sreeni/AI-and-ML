{
  "nbformat": 4,
  "nbformat_minor": 0,
  "metadata": {
    "colab": {
      "provenance": []
    },
    "kernelspec": {
      "name": "python3",
      "display_name": "Python 3"
    },
    "language_info": {
      "name": "python"
    }
  },
  "cells": [
    {
      "cell_type": "code",
      "execution_count": null,
      "metadata": {
        "id": "4LE3amqBY3p7"
      },
      "outputs": [],
      "source": [
        "import numpy as np, pandas as pd\n",
        "import re, random, os, string\n",
        "\n",
        "import matplotlib.pyplot as plt\n",
        "%matplotlib inline\n",
        "\n",
        "from pprint import pprint\n",
        "from nltk.tokenize import word_tokenize\n",
        "from nltk.stem import WordNetLemmatizer"
      ]
    },
    {
      "cell_type": "code",
      "source": [
        "#Task1 - Read the .csv file using Pandas. Take a look at the top few records.\n",
        "\n",
        "topicReviews = pd.read_csv(\"sample_data/K8 Reviews v0.2.csv\")\n",
        "topicReviews.head()"
      ],
      "metadata": {
        "colab": {
          "base_uri": "https://localhost:8080/",
          "height": 206
        },
        "id": "n9vgqGLnZLlj",
        "outputId": "43f2d482-c796-4e2d-dfe8-59248c3fb6f5"
      },
      "execution_count": null,
      "outputs": [
        {
          "output_type": "execute_result",
          "data": {
            "text/plain": [
              "   sentiment                                             review\n",
              "0          1             Good but need updates and improvements\n",
              "1          0  Worst mobile i have bought ever, Battery is dr...\n",
              "2          1  when I will get my 10% cash back.... its alrea...\n",
              "3          1                                               Good\n",
              "4          0  The worst phone everThey have changed the last..."
            ],
            "text/html": [
              "\n",
              "  <div id=\"df-b73a56ab-35e5-41ce-970a-0454d10ee17b\">\n",
              "    <div class=\"colab-df-container\">\n",
              "      <div>\n",
              "<style scoped>\n",
              "    .dataframe tbody tr th:only-of-type {\n",
              "        vertical-align: middle;\n",
              "    }\n",
              "\n",
              "    .dataframe tbody tr th {\n",
              "        vertical-align: top;\n",
              "    }\n",
              "\n",
              "    .dataframe thead th {\n",
              "        text-align: right;\n",
              "    }\n",
              "</style>\n",
              "<table border=\"1\" class=\"dataframe\">\n",
              "  <thead>\n",
              "    <tr style=\"text-align: right;\">\n",
              "      <th></th>\n",
              "      <th>sentiment</th>\n",
              "      <th>review</th>\n",
              "    </tr>\n",
              "  </thead>\n",
              "  <tbody>\n",
              "    <tr>\n",
              "      <th>0</th>\n",
              "      <td>1</td>\n",
              "      <td>Good but need updates and improvements</td>\n",
              "    </tr>\n",
              "    <tr>\n",
              "      <th>1</th>\n",
              "      <td>0</td>\n",
              "      <td>Worst mobile i have bought ever, Battery is dr...</td>\n",
              "    </tr>\n",
              "    <tr>\n",
              "      <th>2</th>\n",
              "      <td>1</td>\n",
              "      <td>when I will get my 10% cash back.... its alrea...</td>\n",
              "    </tr>\n",
              "    <tr>\n",
              "      <th>3</th>\n",
              "      <td>1</td>\n",
              "      <td>Good</td>\n",
              "    </tr>\n",
              "    <tr>\n",
              "      <th>4</th>\n",
              "      <td>0</td>\n",
              "      <td>The worst phone everThey have changed the last...</td>\n",
              "    </tr>\n",
              "  </tbody>\n",
              "</table>\n",
              "</div>\n",
              "      <button class=\"colab-df-convert\" onclick=\"convertToInteractive('df-b73a56ab-35e5-41ce-970a-0454d10ee17b')\"\n",
              "              title=\"Convert this dataframe to an interactive table.\"\n",
              "              style=\"display:none;\">\n",
              "        \n",
              "  <svg xmlns=\"http://www.w3.org/2000/svg\" height=\"24px\"viewBox=\"0 0 24 24\"\n",
              "       width=\"24px\">\n",
              "    <path d=\"M0 0h24v24H0V0z\" fill=\"none\"/>\n",
              "    <path d=\"M18.56 5.44l.94 2.06.94-2.06 2.06-.94-2.06-.94-.94-2.06-.94 2.06-2.06.94zm-11 1L8.5 8.5l.94-2.06 2.06-.94-2.06-.94L8.5 2.5l-.94 2.06-2.06.94zm10 10l.94 2.06.94-2.06 2.06-.94-2.06-.94-.94-2.06-.94 2.06-2.06.94z\"/><path d=\"M17.41 7.96l-1.37-1.37c-.4-.4-.92-.59-1.43-.59-.52 0-1.04.2-1.43.59L10.3 9.45l-7.72 7.72c-.78.78-.78 2.05 0 2.83L4 21.41c.39.39.9.59 1.41.59.51 0 1.02-.2 1.41-.59l7.78-7.78 2.81-2.81c.8-.78.8-2.07 0-2.86zM5.41 20L4 18.59l7.72-7.72 1.47 1.35L5.41 20z\"/>\n",
              "  </svg>\n",
              "      </button>\n",
              "      \n",
              "  <style>\n",
              "    .colab-df-container {\n",
              "      display:flex;\n",
              "      flex-wrap:wrap;\n",
              "      gap: 12px;\n",
              "    }\n",
              "\n",
              "    .colab-df-convert {\n",
              "      background-color: #E8F0FE;\n",
              "      border: none;\n",
              "      border-radius: 50%;\n",
              "      cursor: pointer;\n",
              "      display: none;\n",
              "      fill: #1967D2;\n",
              "      height: 32px;\n",
              "      padding: 0 0 0 0;\n",
              "      width: 32px;\n",
              "    }\n",
              "\n",
              "    .colab-df-convert:hover {\n",
              "      background-color: #E2EBFA;\n",
              "      box-shadow: 0px 1px 2px rgba(60, 64, 67, 0.3), 0px 1px 3px 1px rgba(60, 64, 67, 0.15);\n",
              "      fill: #174EA6;\n",
              "    }\n",
              "\n",
              "    [theme=dark] .colab-df-convert {\n",
              "      background-color: #3B4455;\n",
              "      fill: #D2E3FC;\n",
              "    }\n",
              "\n",
              "    [theme=dark] .colab-df-convert:hover {\n",
              "      background-color: #434B5C;\n",
              "      box-shadow: 0px 1px 3px 1px rgba(0, 0, 0, 0.15);\n",
              "      filter: drop-shadow(0px 1px 2px rgba(0, 0, 0, 0.3));\n",
              "      fill: #FFFFFF;\n",
              "    }\n",
              "  </style>\n",
              "\n",
              "      <script>\n",
              "        const buttonEl =\n",
              "          document.querySelector('#df-b73a56ab-35e5-41ce-970a-0454d10ee17b button.colab-df-convert');\n",
              "        buttonEl.style.display =\n",
              "          google.colab.kernel.accessAllowed ? 'block' : 'none';\n",
              "\n",
              "        async function convertToInteractive(key) {\n",
              "          const element = document.querySelector('#df-b73a56ab-35e5-41ce-970a-0454d10ee17b');\n",
              "          const dataTable =\n",
              "            await google.colab.kernel.invokeFunction('convertToInteractive',\n",
              "                                                     [key], {});\n",
              "          if (!dataTable) return;\n",
              "\n",
              "          const docLinkHtml = 'Like what you see? Visit the ' +\n",
              "            '<a target=\"_blank\" href=https://colab.research.google.com/notebooks/data_table.ipynb>data table notebook</a>'\n",
              "            + ' to learn more about interactive tables.';\n",
              "          element.innerHTML = '';\n",
              "          dataTable['output_type'] = 'display_data';\n",
              "          await google.colab.output.renderOutput(dataTable, element);\n",
              "          const docLink = document.createElement('div');\n",
              "          docLink.innerHTML = docLinkHtml;\n",
              "          element.appendChild(docLink);\n",
              "        }\n",
              "      </script>\n",
              "    </div>\n",
              "  </div>\n",
              "  "
            ]
          },
          "metadata": {},
          "execution_count": 3
        }
      ]
    },
    {
      "cell_type": "code",
      "source": [
        "#Task2 - Normalize casings for the review text and extract the text into a list for easier manipulation.\n",
        "\n",
        "lowerCaseReviews = [rev.lower() for rev in topicReviews.review.values]"
      ],
      "metadata": {
        "id": "Ra-IzBMmZtb8"
      },
      "execution_count": null,
      "outputs": []
    },
    {
      "cell_type": "code",
      "source": [
        "import nltk\n",
        "nltk.download('punkt')"
      ],
      "metadata": {
        "colab": {
          "base_uri": "https://localhost:8080/"
        },
        "id": "LC5Z3OTeaOeL",
        "outputId": "952dcdde-5c52-4d74-db6b-7090d9e3d1ed"
      },
      "execution_count": null,
      "outputs": [
        {
          "output_type": "stream",
          "name": "stderr",
          "text": [
            "[nltk_data] Downloading package punkt to /root/nltk_data...\n",
            "[nltk_data]   Unzipping tokenizers/punkt.zip.\n"
          ]
        },
        {
          "output_type": "execute_result",
          "data": {
            "text/plain": [
              "True"
            ]
          },
          "metadata": {},
          "execution_count": 6
        }
      ]
    },
    {
      "cell_type": "code",
      "source": [
        "#Task3 - Tokenize the reviews using NLTKs word_tokenize function.\n",
        "\n",
        "tokenOfReviews = [word_tokenize(lowerRev) for lowerRev in lowerCaseReviews]\n",
        "tokenOfReviews[0]"
      ],
      "metadata": {
        "colab": {
          "base_uri": "https://localhost:8080/"
        },
        "id": "HsM1nJwGZ0Ev",
        "outputId": "0e1a1a33-0ff4-46ba-f207-6d2b8f730e98"
      },
      "execution_count": null,
      "outputs": [
        {
          "output_type": "execute_result",
          "data": {
            "text/plain": [
              "['good', 'but', 'need', 'updates', 'and', 'improvements']"
            ]
          },
          "metadata": {},
          "execution_count": 8
        }
      ]
    },
    {
      "cell_type": "code",
      "source": [
        "nltk.download('averaged_perceptron_tagger')\n",
        "nltk.download('tagsets')\n",
        "nltk.download('wordnet')\n",
        "nltk.download('omw-1.4')\n",
        "nltk.download('stopwords')"
      ],
      "metadata": {
        "colab": {
          "base_uri": "https://localhost:8080/"
        },
        "id": "eaE5r4xVbFfl",
        "outputId": "2cb4311b-0813-4626-d93e-71040f0b3324"
      },
      "execution_count": null,
      "outputs": [
        {
          "output_type": "stream",
          "name": "stderr",
          "text": [
            "[nltk_data] Downloading package averaged_perceptron_tagger to\n",
            "[nltk_data]     /root/nltk_data...\n",
            "[nltk_data]   Package averaged_perceptron_tagger is already up-to-\n",
            "[nltk_data]       date!\n",
            "[nltk_data] Downloading package tagsets to /root/nltk_data...\n",
            "[nltk_data]   Package tagsets is already up-to-date!\n",
            "[nltk_data] Downloading package wordnet to /root/nltk_data...\n",
            "[nltk_data]   Package wordnet is already up-to-date!\n",
            "[nltk_data] Downloading package omw-1.4 to /root/nltk_data...\n",
            "[nltk_data]   Package omw-1.4 is already up-to-date!\n",
            "[nltk_data] Downloading package stopwords to /root/nltk_data...\n",
            "[nltk_data]   Unzipping corpora/stopwords.zip.\n"
          ]
        },
        {
          "output_type": "execute_result",
          "data": {
            "text/plain": [
              "True"
            ]
          },
          "metadata": {},
          "execution_count": 27
        }
      ]
    },
    {
      "cell_type": "code",
      "source": [
        "#Task4 - Perform parts-of-speech tagging on each sentence using the NLTK POS tagger\n",
        "\n",
        "taggedReviews = [nltk.pos_tag(revTag) for revTag in tokenOfReviews]\n",
        "taggedReviews[0]"
      ],
      "metadata": {
        "colab": {
          "base_uri": "https://localhost:8080/"
        },
        "id": "rSgQY1XkZ4CO",
        "outputId": "edeb2abd-5b2f-4cb2-cbac-ba8069e88f1f"
      },
      "execution_count": null,
      "outputs": [
        {
          "output_type": "execute_result",
          "data": {
            "text/plain": [
              "[('good', 'JJ'),\n",
              " ('but', 'CC'),\n",
              " ('need', 'VBP'),\n",
              " ('updates', 'NNS'),\n",
              " ('and', 'CC'),\n",
              " ('improvements', 'NNS')]"
            ]
          },
          "metadata": {},
          "execution_count": 11
        }
      ]
    },
    {
      "cell_type": "code",
      "source": [
        "#Task5 - 1 - Find out all the POS tags that correspond to nouns\n",
        "\n",
        "nltk.help.upenn_tagset()"
      ],
      "metadata": {
        "colab": {
          "base_uri": "https://localhost:8080/"
        },
        "id": "_uChK731a-el",
        "outputId": "decc1e7c-0424-4381-cd68-1fae4b64ac04"
      },
      "execution_count": null,
      "outputs": [
        {
          "output_type": "stream",
          "name": "stdout",
          "text": [
            "$: dollar\n",
            "    $ -$ --$ A$ C$ HK$ M$ NZ$ S$ U.S.$ US$\n",
            "'': closing quotation mark\n",
            "    ' ''\n",
            "(: opening parenthesis\n",
            "    ( [ {\n",
            "): closing parenthesis\n",
            "    ) ] }\n",
            ",: comma\n",
            "    ,\n",
            "--: dash\n",
            "    --\n",
            ".: sentence terminator\n",
            "    . ! ?\n",
            ":: colon or ellipsis\n",
            "    : ; ...\n",
            "CC: conjunction, coordinating\n",
            "    & 'n and both but either et for less minus neither nor or plus so\n",
            "    therefore times v. versus vs. whether yet\n",
            "CD: numeral, cardinal\n",
            "    mid-1890 nine-thirty forty-two one-tenth ten million 0.5 one forty-\n",
            "    seven 1987 twenty '79 zero two 78-degrees eighty-four IX '60s .025\n",
            "    fifteen 271,124 dozen quintillion DM2,000 ...\n",
            "DT: determiner\n",
            "    all an another any both del each either every half la many much nary\n",
            "    neither no some such that the them these this those\n",
            "EX: existential there\n",
            "    there\n",
            "FW: foreign word\n",
            "    gemeinschaft hund ich jeux habeas Haementeria Herr K'ang-si vous\n",
            "    lutihaw alai je jour objets salutaris fille quibusdam pas trop Monte\n",
            "    terram fiche oui corporis ...\n",
            "IN: preposition or conjunction, subordinating\n",
            "    astride among uppon whether out inside pro despite on by throughout\n",
            "    below within for towards near behind atop around if like until below\n",
            "    next into if beside ...\n",
            "JJ: adjective or numeral, ordinal\n",
            "    third ill-mannered pre-war regrettable oiled calamitous first separable\n",
            "    ectoplasmic battery-powered participatory fourth still-to-be-named\n",
            "    multilingual multi-disciplinary ...\n",
            "JJR: adjective, comparative\n",
            "    bleaker braver breezier briefer brighter brisker broader bumper busier\n",
            "    calmer cheaper choosier cleaner clearer closer colder commoner costlier\n",
            "    cozier creamier crunchier cuter ...\n",
            "JJS: adjective, superlative\n",
            "    calmest cheapest choicest classiest cleanest clearest closest commonest\n",
            "    corniest costliest crassest creepiest crudest cutest darkest deadliest\n",
            "    dearest deepest densest dinkiest ...\n",
            "LS: list item marker\n",
            "    A A. B B. C C. D E F First G H I J K One SP-44001 SP-44002 SP-44005\n",
            "    SP-44007 Second Third Three Two * a b c d first five four one six three\n",
            "    two\n",
            "MD: modal auxiliary\n",
            "    can cannot could couldn't dare may might must need ought shall should\n",
            "    shouldn't will would\n",
            "NN: noun, common, singular or mass\n",
            "    common-carrier cabbage knuckle-duster Casino afghan shed thermostat\n",
            "    investment slide humour falloff slick wind hyena override subhumanity\n",
            "    machinist ...\n",
            "NNP: noun, proper, singular\n",
            "    Motown Venneboerger Czestochwa Ranzer Conchita Trumplane Christos\n",
            "    Oceanside Escobar Kreisler Sawyer Cougar Yvette Ervin ODI Darryl CTCA\n",
            "    Shannon A.K.C. Meltex Liverpool ...\n",
            "NNPS: noun, proper, plural\n",
            "    Americans Americas Amharas Amityvilles Amusements Anarcho-Syndicalists\n",
            "    Andalusians Andes Andruses Angels Animals Anthony Antilles Antiques\n",
            "    Apache Apaches Apocrypha ...\n",
            "NNS: noun, common, plural\n",
            "    undergraduates scotches bric-a-brac products bodyguards facets coasts\n",
            "    divestitures storehouses designs clubs fragrances averages\n",
            "    subjectivists apprehensions muses factory-jobs ...\n",
            "PDT: pre-determiner\n",
            "    all both half many quite such sure this\n",
            "POS: genitive marker\n",
            "    ' 's\n",
            "PRP: pronoun, personal\n",
            "    hers herself him himself hisself it itself me myself one oneself ours\n",
            "    ourselves ownself self she thee theirs them themselves they thou thy us\n",
            "PRP$: pronoun, possessive\n",
            "    her his mine my our ours their thy your\n",
            "RB: adverb\n",
            "    occasionally unabatingly maddeningly adventurously professedly\n",
            "    stirringly prominently technologically magisterially predominately\n",
            "    swiftly fiscally pitilessly ...\n",
            "RBR: adverb, comparative\n",
            "    further gloomier grander graver greater grimmer harder harsher\n",
            "    healthier heavier higher however larger later leaner lengthier less-\n",
            "    perfectly lesser lonelier longer louder lower more ...\n",
            "RBS: adverb, superlative\n",
            "    best biggest bluntest earliest farthest first furthest hardest\n",
            "    heartiest highest largest least less most nearest second tightest worst\n",
            "RP: particle\n",
            "    aboard about across along apart around aside at away back before behind\n",
            "    by crop down ever fast for forth from go high i.e. in into just later\n",
            "    low more off on open out over per pie raising start teeth that through\n",
            "    under unto up up-pp upon whole with you\n",
            "SYM: symbol\n",
            "    % & ' '' ''. ) ). * + ,. < = > @ A[fj] U.S U.S.S.R * ** ***\n",
            "TO: \"to\" as preposition or infinitive marker\n",
            "    to\n",
            "UH: interjection\n",
            "    Goodbye Goody Gosh Wow Jeepers Jee-sus Hubba Hey Kee-reist Oops amen\n",
            "    huh howdy uh dammit whammo shucks heck anyways whodunnit honey golly\n",
            "    man baby diddle hush sonuvabitch ...\n",
            "VB: verb, base form\n",
            "    ask assemble assess assign assume atone attention avoid bake balkanize\n",
            "    bank begin behold believe bend benefit bevel beware bless boil bomb\n",
            "    boost brace break bring broil brush build ...\n",
            "VBD: verb, past tense\n",
            "    dipped pleaded swiped regummed soaked tidied convened halted registered\n",
            "    cushioned exacted snubbed strode aimed adopted belied figgered\n",
            "    speculated wore appreciated contemplated ...\n",
            "VBG: verb, present participle or gerund\n",
            "    telegraphing stirring focusing angering judging stalling lactating\n",
            "    hankerin' alleging veering capping approaching traveling besieging\n",
            "    encrypting interrupting erasing wincing ...\n",
            "VBN: verb, past participle\n",
            "    multihulled dilapidated aerosolized chaired languished panelized used\n",
            "    experimented flourished imitated reunifed factored condensed sheared\n",
            "    unsettled primed dubbed desired ...\n",
            "VBP: verb, present tense, not 3rd person singular\n",
            "    predominate wrap resort sue twist spill cure lengthen brush terminate\n",
            "    appear tend stray glisten obtain comprise detest tease attract\n",
            "    emphasize mold postpone sever return wag ...\n",
            "VBZ: verb, present tense, 3rd person singular\n",
            "    bases reconstructs marks mixes displeases seals carps weaves snatches\n",
            "    slumps stretches authorizes smolders pictures emerges stockpiles\n",
            "    seduces fizzes uses bolsters slaps speaks pleads ...\n",
            "WDT: WH-determiner\n",
            "    that what whatever which whichever\n",
            "WP: WH-pronoun\n",
            "    that what whatever whatsoever which who whom whosoever\n",
            "WP$: WH-pronoun, possessive\n",
            "    whose\n",
            "WRB: Wh-adverb\n",
            "    how however whence whenever where whereby whereever wherein whereof why\n",
            "``: opening quotation mark\n",
            "    ` ``\n"
          ]
        }
      ]
    },
    {
      "cell_type": "code",
      "source": [
        "#Task5 - 2 - Limit the data to only terms with these tags.\n",
        "\n",
        "nounInReviews=[]\n",
        "for sent in taggedReviews:\n",
        "    nounInReviews.append([token for token in sent if re.search(\"NN.*\", token[1])])"
      ],
      "metadata": {
        "id": "sPUrKLlmbudd"
      },
      "execution_count": null,
      "outputs": []
    },
    {
      "cell_type": "code",
      "source": [
        "#Task6 - Lemmentize - Different forms of the terms need to be treated as one.\n",
        "\n",
        "lemmatizr = WordNetLemmatizer()\n",
        "lemmentizedReviews = []\n",
        "for sent in nounInReviews:\n",
        "    lemmentizedReviews.append([lemmatizr.lemmatize(word[0]) for word in sent])"
      ],
      "metadata": {
        "id": "eYRg-7EhcJyE"
      },
      "execution_count": null,
      "outputs": []
    },
    {
      "cell_type": "code",
      "source": [
        "#Task7 - Remove stopwords and punctuation (if there are any). \n",
        "\n",
        "from string import punctuation\n",
        "from nltk.corpus import stopwords\n",
        "\n",
        "englishStopWords = stopwords.words(\"english\")"
      ],
      "metadata": {
        "id": "OTknieexdFY0"
      },
      "execution_count": null,
      "outputs": []
    },
    {
      "cell_type": "code",
      "source": [
        "stopWordsUpdated = englishStopWords + list(punctuation) + [\"...\"] + [\"..\"]\n",
        "removedStopWrdsFromReview = []\n",
        "for sent in lemmentizedReviews:\n",
        "    removedStopWrdsFromReview.append([term for term in sent if term not in stopWordsUpdated])\n",
        "\n",
        "removedStopWrdsFromReview[0]"
      ],
      "metadata": {
        "colab": {
          "base_uri": "https://localhost:8080/"
        },
        "id": "4dBlTGWqdSKq",
        "outputId": "29a44562-c8e8-4ac2-bf6b-715a963f1763"
      },
      "execution_count": null,
      "outputs": [
        {
          "output_type": "execute_result",
          "data": {
            "text/plain": [
              "['update', 'improvement']"
            ]
          },
          "metadata": {},
          "execution_count": 29
        }
      ]
    },
    {
      "cell_type": "code",
      "source": [
        "#Task 8 - Create a topic model using LDA on the cleaned up data with 12 topics.\n",
        "import gensim\n",
        "import gensim.corpora as corpora\n",
        "from gensim.models import CoherenceModel\n",
        "from gensim.models import ldamodel"
      ],
      "metadata": {
        "id": "CWt9veHmd4-J"
      },
      "execution_count": null,
      "outputs": []
    },
    {
      "cell_type": "code",
      "source": [
        "idToWord = corpora.Dictionary(removedStopWrdsFromReview)\n",
        "texts = removedStopWrdsFromReview\n",
        "corpus = [idToWord.doc2bow(text) for text in texts]"
      ],
      "metadata": {
        "id": "vmR-78AxeDaa"
      },
      "execution_count": null,
      "outputs": []
    },
    {
      "cell_type": "code",
      "source": [
        "ldaModel = gensim.models.ldamodel.LdaModel(corpus=corpus,\n",
        "                                           id2word=idToWord,\n",
        "                                           num_topics=12, \n",
        "                                           random_state=42,\n",
        "                                           passes=10,\n",
        "                                           per_word_topics=True)"
      ],
      "metadata": {
        "id": "-Q8BoK9FePu1"
      },
      "execution_count": null,
      "outputs": []
    },
    {
      "cell_type": "code",
      "source": [
        "#Task 8 - 1- Print out the top terms for each topic.\n",
        "pprint(ldaModel.print_topics())"
      ],
      "metadata": {
        "colab": {
          "base_uri": "https://localhost:8080/"
        },
        "id": "UOJnA4v6ebus",
        "outputId": "82f59d6a-068e-4e3f-ec50-60156d509195"
      },
      "execution_count": null,
      "outputs": [
        {
          "output_type": "stream",
          "name": "stdout",
          "text": [
            "[(0,\n",
            "  '0.155*\"mobile\" + 0.035*\"screen\" + 0.030*\"call\" + 0.027*\"video\" + '\n",
            "  '0.026*\"option\" + 0.024*\"feature\" + 0.018*\"music\" + 0.017*\"app\" + '\n",
            "  '0.017*\"cast\" + 0.015*\"speed\"'),\n",
            " (1,\n",
            "  '0.051*\"delivery\" + 0.039*\"superb\" + 0.038*\"glass\" + 0.037*\"h\" + '\n",
            "  '0.026*\"device\" + 0.023*\"everything\" + 0.021*\"super\" + 0.020*\"gorilla\" + '\n",
            "  '0.018*\"cost\" + 0.018*\"ok\"'),\n",
            " (2,\n",
            "  '0.140*\"note\" + 0.085*\"lenovo\" + 0.073*\"k8\" + 0.023*\"phone\" + 0.017*\"system\" '\n",
            "  '+ 0.016*\"model\" + 0.013*\"device\" + 0.010*\"version\" + 0.009*\"k4\" + '\n",
            "  '0.008*\"power\"'),\n",
            " (3,\n",
            "  '0.161*\"problem\" + 0.086*\"battery\" + 0.084*\"....\" + 0.079*\"performance\" + '\n",
            "  '0.077*\"heating\" + 0.062*\"phone\" + 0.035*\".....\" + 0.032*\"camera\" + '\n",
            "  '0.030*\"issue\" + 0.014*\"backup\"'),\n",
            " (4,\n",
            "  '0.160*\"battery\" + 0.047*\"charger\" + 0.041*\"hour\" + 0.041*\"phone\" + '\n",
            "  '0.033*\"backup\" + 0.030*\"charge\" + 0.030*\"day\" + 0.029*\"heat\" + 0.023*\"hai\" '\n",
            "  '+ 0.022*\"charging\"'),\n",
            " (5,\n",
            "  '0.099*\"price\" + 0.087*\"money\" + 0.052*\"value\" + 0.049*\"handset\" + '\n",
            "  '0.043*\"feature\" + 0.040*\"range\" + 0.039*\"mobile\" + 0.018*\"please\" + '\n",
            "  '0.018*\"pls\" + 0.017*\"experience\"'),\n",
            " (6,\n",
            "  '0.074*\"speaker\" + 0.052*\"sound\" + 0.046*\"display\" + 0.021*\"side\" + '\n",
            "  '0.021*\"work\" + 0.021*\"dolby\" + 0.020*\"volume\" + 0.018*\"set\" + '\n",
            "  '0.017*\"screen\" + 0.016*\"sensor\"'),\n",
            " (7,\n",
            "  '0.289*\"phone\" + 0.081*\"camera\" + 0.033*\"price\" + 0.022*\"quality\" + '\n",
            "  '0.021*\"feature\" + 0.020*\"performance\" + 0.018*\"mode\" + 0.016*\"processor\" + '\n",
            "  '0.013*\"budget\" + 0.013*\"range\"'),\n",
            " (8,\n",
            "  '0.250*\"camera\" + 0.148*\"quality\" + 0.060*\"battery\" + 0.024*\"mark\" + '\n",
            "  '0.022*\"backup\" + 0.021*\"clarity\" + 0.019*\"expectation\" + 0.014*\"smartphone\" '\n",
            "  '+ 0.014*\"......\" + 0.013*\"feature\"'),\n",
            " (9,\n",
            "  '0.105*\"issue\" + 0.053*\"phone\" + 0.040*\"update\" + 0.039*\"network\" + '\n",
            "  '0.038*\"battery\" + 0.032*\"software\" + 0.020*\"lot\" + 0.018*\"time\" + '\n",
            "  '0.016*\"device\" + 0.015*\"lenovo\"'),\n",
            " (10,\n",
            "  '0.116*\"phone\" + 0.049*\"service\" + 0.042*\"amazon\" + 0.034*\"time\" + '\n",
            "  '0.030*\"problem\" + 0.027*\"day\" + 0.022*\"call\" + 0.021*\"sim\" + '\n",
            "  '0.020*\"customer\" + 0.019*\"replacement\"'),\n",
            " (11,\n",
            "  '0.387*\"product\" + 0.044*\"waste\" + 0.040*\"money\" + 0.022*\"amazon\" + '\n",
            "  '0.018*\"worth\" + 0.017*\"return\" + 0.016*\"excellent\" + 0.016*\"headphone\" + '\n",
            "  '0.013*\"item\" + 0.012*\"thanks\"')]\n"
          ]
        }
      ]
    },
    {
      "cell_type": "code",
      "source": [
        "# Task8 - 2- What is the coherence of the model with the c_v metric?\n",
        "\n",
        "coherenceModelLda = CoherenceModel(model=ldaModel, texts=removedStopWrdsFromReview, dictionary=idToWord, coherence='c_v')\n",
        "coherenceLda = coherenceModelLda.get_coherence()\n",
        "print('Coherence Score is: ', coherenceLda)"
      ],
      "metadata": {
        "colab": {
          "base_uri": "https://localhost:8080/"
        },
        "id": "JYfZZvwKerfC",
        "outputId": "f7ead0da-a07a-4f91-ffef-04d3997a9aa3"
      },
      "execution_count": null,
      "outputs": [
        {
          "output_type": "stream",
          "name": "stdout",
          "text": [
            "Coherence Score is:  0.5571936650478105\n"
          ]
        }
      ]
    },
    {
      "cell_type": "code",
      "source": [
        "#Task9 - Determine which of the topics can be combined.\n",
        "\n",
        "print('Topic 2 and 5 talk about pricing')\n",
        "\n",
        "print('Topic 4, 6 and 10 talk about battery related issues')\n",
        "\n",
        "print('Topic 3 and 11 probably talk about performance')"
      ],
      "metadata": {
        "colab": {
          "base_uri": "https://localhost:8080/"
        },
        "id": "kOIgsq7cfCBM",
        "outputId": "e4ca0795-34a3-4e56-e5a4-b9ce833a98ba"
      },
      "execution_count": null,
      "outputs": [
        {
          "output_type": "stream",
          "name": "stdout",
          "text": [
            "Topic 2 and 5 talk about pricing\n",
            "Topic 4, 6 and 10 talk about battery related issues\n",
            "Topic 3 and 11 probably talk about performance\n"
          ]
        }
      ]
    },
    {
      "cell_type": "code",
      "source": [
        "#Task10 - Create topic model using LDA with what you think is the optimal number of topics\n",
        "ldaModel9 = gensim.models.ldamodel.LdaModel(corpus=corpus,\n",
        "                                           id2word=idToWord,\n",
        "                                           num_topics=9, \n",
        "                                           random_state=42,\n",
        "                                           passes=10,\n",
        "                                           per_word_topics=True)"
      ],
      "metadata": {
        "id": "NWoHqywhf5SP"
      },
      "execution_count": null,
      "outputs": []
    },
    {
      "cell_type": "code",
      "source": [
        "#Task10 - What is the coherence of the model?\n",
        "coherenceModel9Lda = CoherenceModel(model=ldaModel9, texts=removedStopWrdsFromReview, dictionary=idToWord, coherence='c_v')\n",
        "coherenceLdaM9 = coherenceModel9Lda.get_coherence()\n",
        "print(' Coherence Score for 9 topics: ', coherenceLdaM9)"
      ],
      "metadata": {
        "colab": {
          "base_uri": "https://localhost:8080/"
        },
        "id": "Lrbdx5BwgPFe",
        "outputId": "07a78fa4-1185-44c3-cdde-394d5b222c02"
      },
      "execution_count": null,
      "outputs": [
        {
          "output_type": "stream",
          "name": "stdout",
          "text": [
            " Coherence Score for 9 topics:  0.5403311642904353\n"
          ]
        }
      ]
    },
    {
      "cell_type": "code",
      "source": [
        "#Task11 - The business should  be able to interpret the topics. Name each of the identified topics.\n",
        "\n",
        "topcLst = ldaModel9.show_topics(formatted=False)\n",
        "WordsInTopics = [(topc[0], [wrd[0] for wrd in topc[1]]) for topc in topcLst]"
      ],
      "metadata": {
        "id": "YwHC1c4xgiq8"
      },
      "execution_count": null,
      "outputs": []
    },
    {
      "cell_type": "code",
      "source": [
        "#Task11 - Create a table with the topic name and the top 10 terms in each to present to the  business.\n",
        "\n",
        "for topic,words in WordsInTopics:\n",
        "    print(f'Topic {topic} has words :: {words}')"
      ],
      "metadata": {
        "colab": {
          "base_uri": "https://localhost:8080/"
        },
        "id": "fqwKrQIAhHXM",
        "outputId": "35c904fe-1692-4572-b37f-f5bf122100c9"
      },
      "execution_count": null,
      "outputs": [
        {
          "output_type": "stream",
          "name": "stdout",
          "text": [
            "Topic 0 has words :: ['mobile', 'screen', 'feature', 'call', 'option', 'video', 'music', 'app', 'apps', 'cast']\n",
            "Topic 1 has words :: ['delivery', 'return', 'glass', 'h', 'amazon', 'sim', 'policy', 'super', 'gorilla', 'card']\n",
            "Topic 2 has words :: ['phone', 'note', 'lenovo', 'k8', 'time', 'service', 'issue', 'problem', 'network', 'day']\n",
            "Topic 3 has words :: ['problem', 'battery', 'issue', 'phone', 'heating', 'performance', 'camera', 'update', 'drain', 'backup']\n",
            "Topic 4 has words :: ['battery', 'phone', 'charger', 'hour', 'backup', 'charge', 'heat', 'charging', 'turbo', 'hr']\n",
            "Topic 5 has words :: ['product', 'money', 'waste', 'value', 'handset', 'price', 'amazon', 'lenovo', '....', 'plz']\n",
            "Topic 6 has words :: ['speaker', 'superb', 'sound', 'display', '.....', 'dolby', '......', 'set', 'atmos', 'work']\n",
            "Topic 7 has words :: ['phone', 'camera', 'price', 'quality', 'feature', 'range', 'battery', 'performance', 'mode', 'processor']\n",
            "Topic 8 has words :: ['camera', 'quality', '....', 'battery', 'everything', 'clarity', 'headphone', 'mark', 'speed', 'expectation']\n"
          ]
        }
      ]
    }
  ]
}